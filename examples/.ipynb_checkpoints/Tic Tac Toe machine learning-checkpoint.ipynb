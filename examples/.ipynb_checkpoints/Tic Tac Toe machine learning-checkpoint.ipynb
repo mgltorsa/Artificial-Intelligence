{
 "cells": [
  {
   "cell_type": "markdown",
   "metadata": {},
   "source": [
    "# Tic tac toe\n",
    "Aplicando estrategia mini-max.\n"
   ]
  },
  {
   "cell_type": "markdown",
   "metadata": {},
   "source": [
    "<img src=\"https://cdncontribute.geeksforgeeks.org/wp-content/uploads/TIC_TAC.jpg\" width=\"350\">"
   ]
  },
  {
   "cell_type": "markdown",
   "metadata": {},
   "source": [
    "Definimos primero el minimo y el máximo a usar durante la estrategia mini-max, junto a las dificultades para el juego."
   ]
  },
  {
   "cell_type": "code",
   "execution_count": 11,
   "metadata": {},
   "outputs": [],
   "source": [
    "import sys\n",
    "global ia_play\n",
    "\n",
    "\n",
    "MIN = -1\n",
    "MAX = 1\n",
    "\n",
    "EASY = 0\n",
    "HARD = 1"
   ]
  },
  {
   "cell_type": "markdown",
   "metadata": {},
   "source": [
    "¿Cómo decidimos el ganador del juego?\n",
    "En primer lugar definimos los estados para los cuales el juego ha finalizado\n"
   ]
  },
  {
   "cell_type": "code",
   "execution_count": 12,
   "metadata": {},
   "outputs": [],
   "source": [
    "#states where game is finished\n",
    "winner_states = [[0, 1, 2], [3, 4, 5], [6, 7, 8], [0, 3, 6], [1, 4, 7], [2, 5,8], [0, 4, 8], [2, 4, 6]]"
   ]
  },
  {
   "cell_type": "markdown",
   "metadata": {},
   "source": [
    "Consecutivamente, se define una función para evaluar al ganador del juego"
   ]
  },
  {
   "cell_type": "code",
   "execution_count": 13,
   "metadata": {},
   "outputs": [],
   "source": [
    "def winner(board):   \n",
    "    win = 0\n",
    "    for state in winner_states:\n",
    "        if board[state[0]] == board[state[1]] and board[state[0]] == board[state[2]] and board[state[0]] != 0:\n",
    "            win = board[state[0]]\n",
    "    return win"
   ]
  },
  {
   "cell_type": "markdown",
   "metadata": {},
   "source": [
    "Definimos el estado de finalización del juego, game_over"
   ]
  },
  {
   "cell_type": "code",
   "execution_count": 14,
   "metadata": {},
   "outputs": [],
   "source": [
    "def game_over(board):\n",
    "    no_board = False\n",
    "    for i in range(0, len(board)):\n",
    "        if board[i] == 0:\n",
    "            no_board = True\n",
    "            \n",
    "    if winner(board) == 0 and no_board:\n",
    "        return False\n",
    "    else:\n",
    "        return True"
   ]
  },
  {
   "cell_type": "markdown",
   "metadata": {},
   "source": [
    "### Definiendo rutina mini max\n",
    "A continación definimos el algorimto para la estrategia mini-max a utilizar"
   ]
  },
  {
   "cell_type": "code",
   "execution_count": 15,
   "metadata": {},
   "outputs": [],
   "source": [
    "#current ia's play\n",
    "def minmax(board, player, level):\n",
    "    global ia_play\n",
    "    \n",
    "    #Game is finished\n",
    "    if game_over(board):\n",
    "        return [winner(board),0]\n",
    "    plays = []\n",
    "    \n",
    "    for play in range(0,len(board)):\n",
    "        #Box in play index has not played\n",
    "        if board[play] == 0:\n",
    "            temp_board = board[:]\n",
    "            temp_board[play] = player\n",
    "            score = minmax(temp_board,player*(-1),level)\n",
    "            plays.append([score,play])\n",
    "\n",
    "    if level == EASY:\n",
    "        if player == MAX:\n",
    "            move = min(plays,key=str)\n",
    "            ia_play=move[1]\n",
    "            return move\n",
    "        else:      \n",
    "            move = max(plays, key=str)        \n",
    "            return move[0]\n",
    "    if level == HARD:\n",
    "        if player == MAX:\n",
    "            move = max(plays, key=str)        \n",
    "            ia_play = move[1]\n",
    "            return move \n",
    "        else:       \n",
    "            move = min(plays, key=str)        \n",
    "            return move[0]"
   ]
  },
  {
   "cell_type": "markdown",
   "metadata": {},
   "source": [
    "### Definiendo rutina - Elección maquina"
   ]
  },
  {
   "cell_type": "markdown",
   "metadata": {},
   "source": [
    "Para el comportamiento y elección de la maquina en el juego actual, basandonos en la respuesta arrojada por la rutina minmax declarada con anterioridad."
   ]
  },
  {
   "cell_type": "code",
   "execution_count": 16,
   "metadata": {},
   "outputs": [],
   "source": [
    "def ia_plays(board, level):\n",
    "    global ia_play\n",
    "    punt = minmax(board[:], MAX, level)\n",
    "    board[ia_play] = MAX\n",
    "    return board"
   ]
  },
  {
   "cell_type": "markdown",
   "metadata": {},
   "source": [
    "### Definiendo rutina - Elección jugador"
   ]
  },
  {
   "cell_type": "code",
   "execution_count": 17,
   "metadata": {},
   "outputs": [],
   "source": [
    "def player_play(board):\n",
    "    finished= False\n",
    "    while not finished:\n",
    "        inp = input(\"Type the number of box (from 1 to 9), type exit or do not type for exit: \")\n",
    "        print(\"Typed %s \" % (inp) )\n",
    "        \n",
    "        if inp == '' or inp == 'exit':\n",
    "            sys.exit()\n",
    "        if len(inp) == 1:\n",
    "            box = int(inp)\n",
    "            if board[box-1]==0:\n",
    "                board[box-1]=MIN\n",
    "                finished=True                \n",
    "            else:\n",
    "                print(\"please type a non played box\")\n",
    "        else:\n",
    "            print(\"please type only one number\")\n",
    "    return board"
   ]
  },
  {
   "cell_type": "markdown",
   "metadata": {},
   "source": [
    "### Definiendo juego"
   ]
  },
  {
   "cell_type": "markdown",
   "metadata": {},
   "source": [
    "Ahora bien, en cuestion de la interacción con el jugador humano, procedemos a crear una rutina para imprimir el tablero actual por pantalla."
   ]
  },
  {
   "cell_type": "code",
   "execution_count": 18,
   "metadata": {},
   "outputs": [],
   "source": [
    "def print_board(board):\n",
    "    \n",
    "    current_board = list(map(str, board))    \n",
    "    for i in range(0, len(board)):\n",
    "        if board[i] == MAX:\n",
    "            current_board[i] = 'X'\n",
    "        elif board[i] == MIN:\n",
    "            current_board[i] = 'O'\n",
    "        else:\n",
    "            current_board[i] = ' '\n",
    "  \n",
    "    print('   |   |')\n",
    "    print(' ' + current_board[0] + ' | ' + current_board[1] + ' | ' + current_board[2])\n",
    "    print('   |   |')\n",
    "    print('-----------')\n",
    "    print('   |   |')\n",
    "    print(' ' + current_board[3] + ' | ' + current_board[4] + ' | ' + current_board[5])\n",
    "    print('   |   |')\n",
    "    print('-----------')\n",
    "    print('   |   |')\n",
    "    print(' ' + current_board[6] + ' | ' + current_board[7] + ' | ' + current_board[8])\n",
    "    print('   |   |')    "
   ]
  },
  {
   "cell_type": "markdown",
   "metadata": {},
   "source": [
    "Creamos una rutina para que el usuario pueda definir el nivel (dificultad) del juego."
   ]
  },
  {
   "cell_type": "code",
   "execution_count": 19,
   "metadata": {},
   "outputs": [],
   "source": [
    "def select_level(board):\n",
    "    level= False\n",
    "    while not level:\n",
    "        selected_level = input(\"Please type level: 0 for easy and 1 for hard\")\n",
    "        if selected_level in '01'  and len(selected_level)==1:\n",
    "            level = True\n",
    "        else:\n",
    "            print(\"please type a valid level\")\n",
    "    selected_level = int(selected_level)\n",
    "    return selected_level"
   ]
  },
  {
   "cell_type": "markdown",
   "metadata": {},
   "source": [
    "Finalmente la rutina que empieza el juego, es definida."
   ]
  },
  {
   "cell_type": "code",
   "execution_count": 20,
   "metadata": {},
   "outputs": [
    {
     "name": "stdout",
     "output_type": "stream",
     "text": [
      "Starting game... player starts\n"
     ]
    },
    {
     "name": "stdin",
     "output_type": "stream",
     "text": [
      "Please type level: 0 for easy and 1 for hard 0\n"
     ]
    },
    {
     "name": "stdout",
     "output_type": "stream",
     "text": [
      "Easy mode\n",
      "   |   |\n",
      "   |   |  \n",
      "   |   |\n",
      "-----------\n",
      "   |   |\n",
      "   |   |  \n",
      "   |   |\n",
      "-----------\n",
      "   |   |\n",
      "   |   |  \n",
      "   |   |\n"
     ]
    },
    {
     "name": "stdin",
     "output_type": "stream",
     "text": [
      "Type the number of box (from 1 to 9), type exit or do not type for exit:  1\n"
     ]
    },
    {
     "name": "stdout",
     "output_type": "stream",
     "text": [
      "Typed 1 \n",
      "game is over?\n",
      "   |   |\n",
      " O |   |  \n",
      "   |   |\n",
      "-----------\n",
      "   |   |\n",
      "   | X |  \n",
      "   |   |\n",
      "-----------\n",
      "   |   |\n",
      "   |   |  \n",
      "   |   |\n"
     ]
    },
    {
     "name": "stdin",
     "output_type": "stream",
     "text": [
      "Type the number of box (from 1 to 9), type exit or do not type for exit:  2\n"
     ]
    },
    {
     "name": "stdout",
     "output_type": "stream",
     "text": [
      "Typed 2 \n",
      "game is over?\n",
      "   |   |\n",
      " O | O |  \n",
      "   |   |\n",
      "-----------\n",
      "   |   |\n",
      "   | X |  \n",
      "   |   |\n",
      "-----------\n",
      "   |   |\n",
      " X |   |  \n",
      "   |   |\n"
     ]
    },
    {
     "name": "stdin",
     "output_type": "stream",
     "text": [
      "Type the number of box (from 1 to 9), type exit or do not type for exit:  3\n"
     ]
    },
    {
     "name": "stdout",
     "output_type": "stream",
     "text": [
      "Typed 3 \n",
      "   |   |\n",
      " O | O | O\n",
      "   |   |\n",
      "-----------\n",
      "   |   |\n",
      "   | X |  \n",
      "   |   |\n",
      "-----------\n",
      "   |   |\n",
      " X |   |  \n",
      "   |   |\n",
      "Winner: Jugador\n"
     ]
    }
   ],
   "source": [
    "def start_game():\n",
    "    print(\"Starting game... player starts\")\n",
    "    board = [0,0,0,0,0,0,0,0,0]\n",
    "    level = select_level(board)\n",
    "    \n",
    "    if level == EASY:\n",
    "        print(\"Easy mode\")        \n",
    "    if level == HARD:\n",
    "        print(\"Hard mode\")\n",
    "\n",
    "    while True:        \n",
    "        print_board(board)\n",
    "        board = player_play(board)\n",
    "        if game_over(board):\n",
    "            break\n",
    "        board = ia_plays(board, level)\n",
    "        print(\"game is over?\")\n",
    "        if game_over(board):\n",
    "            break\n",
    "            \n",
    "    print_board(board)\n",
    "    win = winner(board)\n",
    "    if win == 0:\n",
    "        win = \"Tablas\"\n",
    "    elif win == MIN:\n",
    "        win = \"Jugador\"\n",
    "    else:\n",
    "        win = \"Ordenador\"\n",
    "    \n",
    "    print(\"Winner: %s\" % (win))\n",
    "    \n",
    "start_game()"
   ]
  }
 ],
 "metadata": {
  "kernelspec": {
   "display_name": "Python 3",
   "language": "python",
   "name": "python3"
  },
  "language_info": {
   "codemirror_mode": {
    "name": "ipython",
    "version": 3
   },
   "file_extension": ".py",
   "mimetype": "text/x-python",
   "name": "python",
   "nbconvert_exporter": "python",
   "pygments_lexer": "ipython3",
   "version": "3.7.3"
  }
 },
 "nbformat": 4,
 "nbformat_minor": 2
}
