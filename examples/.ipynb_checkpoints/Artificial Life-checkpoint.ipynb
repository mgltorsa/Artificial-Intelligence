{
 "cells": [
  {
   "cell_type": "markdown",
   "metadata": {},
   "source": [
    "# Hormiga de Langton\n",
    "\n",
    "**Author: Miguel Ángel Torres Sánchez - Alejandro Muñoz Bravo**\n",
    "\n",
    "La hormiga de Langton es un automata celular, en el cual simulamos a una hormiga ubicada en una rejilla o escenario dividido por casillas, donde cada casilla puede estar marcada como W (white) y B (black)\n",
    "\n",
    "Cada cuadrado del entramado se colorea o bien blanco o bien negro. Se identifica arbitrariamente un cuadrado como la \"hormiga\" (que sera un cuadrado rojo\". La hormiga siempre está mirando en una de las cuatro direcciones cardinales y se mueve un cuadrado cada vez, de acuerdo con las siguientes reglas:\n",
    "\n",
    "+ Si está sobre un cuadrado blanco, cambia el color del cuadrado, gira noventa grados a la izquierda y avanza un cuadrado.\n",
    "+ Si está sobre un cuadrado negro, cambia el color del cuadrado, gira noventa grados a la derecha y avanza un cuadrado."
   ]
  },
  {
   "cell_type": "markdown",
   "metadata": {},
   "source": [
    "Primero importaremos la libreria turtle que nos permitirá manejar el escenario y mostrarlo graficamente."
   ]
  },
  {
   "cell_type": "code",
   "execution_count": 1,
   "metadata": {},
   "outputs": [],
   "source": [
    "import turtle\n",
    "import random"
   ]
  },
  {
   "cell_type": "markdown",
   "metadata": {},
   "source": [
    "Ahora bien definiremos nuestra hormiga haciendo uso de la clase Turtle."
   ]
  },
  {
   "cell_type": "code",
   "execution_count": 2,
   "metadata": {},
   "outputs": [],
   "source": [
    "ant = turtle.Turtle()\n",
    "ant.shape('square')\n",
    "ant.shapesize(0.7)\n",
    "ant.fillcolor('red')"
   ]
  },
  {
   "cell_type": "markdown",
   "metadata": {},
   "source": [
    "En este caso definimos que nuestra hormiga como un cuadrado rojo con 0.5 de tamaño."
   ]
  },
  {
   "cell_type": "markdown",
   "metadata": {},
   "source": [
    "Ahora, definiremos una variable que nos ayudará a gestionar la información del estado actual de la grilla. Es decir, nos permitirá almacenar el estado de cada casilla (su color)."
   ]
  },
  {
   "cell_type": "code",
   "execution_count": 3,
   "metadata": {},
   "outputs": [],
   "source": [
    "maps = {}"
   ]
  },
  {
   "cell_type": "markdown",
   "metadata": {},
   "source": [
    "Definimos la posición inicial de nuestra hormiga y una variable (plat) que definirá nuestra grilla. Lo haremós usando la libreria turtles para manejar el escenario y graficarlo.\n",
    "Para definir las coordenadas de nuestra hormiga declararemos la siguiente funcion."
   ]
  },
  {
   "cell_type": "code",
   "execution_count": 4,
   "metadata": {},
   "outputs": [],
   "source": [
    "def position(ant): \n",
    "    return (round(ant.xcor()), round(ant.ycor())) "
   ]
  },
  {
   "cell_type": "markdown",
   "metadata": {},
   "source": [
    "Y a continuación definimos nuestra grilla (plat) con un color inicial en negro."
   ]
  },
  {
   "cell_type": "code",
   "execution_count": 5,
   "metadata": {},
   "outputs": [],
   "source": [
    "plat = turtle.Screen() \n",
    "plat.bgcolor('black') \n",
    "plat.screensize(1000,1000) "
   ]
  },
  {
   "cell_type": "markdown",
   "metadata": {},
   "source": [
    "Definimos el desplazamiento de la hormiga:"
   ]
  },
  {
   "cell_type": "code",
   "execution_count": 6,
   "metadata": {},
   "outputs": [],
   "source": [
    "move = 15"
   ]
  },
  {
   "cell_type": "markdown",
   "metadata": {},
   "source": [
    "Ahora definimos la velocidad a la que se moverá la hormiga junto a la cantidad de distancia, a nivel de casillas, que se desplazará."
   ]
  },
  {
   "cell_type": "code",
   "execution_count": 7,
   "metadata": {},
   "outputs": [],
   "source": [
    "ant.speed(1000)\n",
    "pos = position(ant)\n"
   ]
  },
  {
   "cell_type": "markdown",
   "metadata": {},
   "source": [
    "Para cambiar el estado de cada casilla en el mapa dependiendo su estado anterior, constuiremos una función sencilla que nos permita hacerlo de manera eficaz."
   ]
  },
  {
   "cell_type": "code",
   "execution_count": 8,
   "metadata": {},
   "outputs": [],
   "source": [
    "def mark(maps, ant, color): \n",
    "    maps[position(ant)] = color"
   ]
  },
  {
   "cell_type": "markdown",
   "metadata": {},
   "source": [
    "Finalmente declaramos las funciones que daran vida a la hormiga.\n",
    "Recuerde que, nuestra hormiga sera el punto rojo en la pantalla."
   ]
  },
  {
   "cell_type": "code",
   "execution_count": 9,
   "metadata": {},
   "outputs": [],
   "source": [
    "def run_ant():\n",
    "    try:\n",
    "        while True:           \n",
    "                if pos not in maps or maps[pos] == \"black\": \n",
    "                    ant.fillcolor('white')             \n",
    "                    ant.stamp()\n",
    "                    ant.fillcolor('red')\n",
    "                    mark(maps, ant, \"white\") \n",
    "                    ant.right(90) \n",
    "                    ant.forward(move)            \n",
    "                    pos = position(ant)\n",
    "\n",
    "                elif maps[pos] == \"white\": \n",
    "                    ant.fillcolor('black')\n",
    "                    mark(maps, ant, \"black\")               \n",
    "                    ant.stamp()\n",
    "                    ant.fillcolor('red')\n",
    "                    ant.left(90) \n",
    "                    ant.forward(move)            \n",
    "                    pos = position(ant)  \n",
    "    except:\n",
    "        print(\"finished\")"
   ]
  },
  {
   "cell_type": "markdown",
   "metadata": {},
   "source": [
    "+ Nota con respecto al algoritmo desarrollado: Debido a que el programa consiste en un loop infinito y para cerrar correctamente la aplicación Turtle se necesita que esta quede esperando una peticion de salida (click en la X de la interfaz), no fue posible desarrollar correctamente un final de la rutina. Por lo tanto, al cerrar la interfaz que se mostrará en pantalla una vez ud corra este script, se encontrará que el programa lanza un error. Si desea volver a ver la simulación, debe reiniciar el kernel si se encuentra trabajando con Jupyter Lab, y con esto, reiniciar todas las variables."
   ]
  },
  {
   "cell_type": "markdown",
   "metadata": {},
   "source": [
    "Ahora bien, de acuerdo al teorema de Bunimovitch-Troubetzkoy. La hormiga, que se mueve infinitamente, no presenta una trayectoria acotada y empezará, a partir\n",
    "de cierta iteración del algorimto, a presentar una trayectoria repetitiva, formando una especie de camino (avenida), que podra observar en el runtime del script."
   ]
  },
  {
   "cell_type": "markdown",
   "metadata": {},
   "source": [
    "Luego de ver su comportamiento la idea a desarrollar entonces es: ubicar una colonia de hormigas de langton y observar su comportamiento."
   ]
  },
  {
   "cell_type": "code",
   "execution_count": 10,
   "metadata": {},
   "outputs": [],
   "source": [
    "ants=[ant,turtle.Turtle(),turtle.Turtle(),turtle.Turtle()]\n",
    "angles=[0,90,180,270]\n",
    "for tmp in ants:\n",
    "    tmp.shape('square')\n",
    "    tmp.shapesize(0.5)\n",
    "    tmp.fillcolor('red')\n",
    "    tmp.speed(100000)  \n",
    "    tmp.setx(40+random.random()*80)\n",
    "    tmp.sety(20+random.random()*100)\n",
    "    tmp.setheading(angles[int(random.random()*4)])\n",
    "\n",
    "move=10\n"
   ]
  },
  {
   "cell_type": "code",
   "execution_count": 11,
   "metadata": {},
   "outputs": [
    {
     "name": "stdout",
     "output_type": "stream",
     "text": [
      "finished\n"
     ]
    }
   ],
   "source": [
    "try:    \n",
    "    while True:     \n",
    "        for ant in ants:\n",
    "            pos = position(ant)\n",
    "            if pos not in maps or maps[pos] == \"black\": \n",
    "                ant.fillcolor('white')             \n",
    "                ant.stamp()\n",
    "                ant.fillcolor('red')\n",
    "                mark(maps, ant, \"white\") \n",
    "                ant.right(90) \n",
    "                ant.forward(move)            \n",
    "                pos = position(ant)\n",
    "\n",
    "            elif maps[pos] == \"white\": \n",
    "                ant.fillcolor('black')\n",
    "                mark(maps, ant, \"black\")               \n",
    "                ant.stamp()\n",
    "                ant.fillcolor('red')\n",
    "                ant.left(90) \n",
    "                ant.forward(move)            \n",
    "                pos = position(ant)\n",
    "except:\n",
    "    print(\"finished\")"
   ]
  },
  {
   "cell_type": "markdown",
   "metadata": {},
   "source": [
    "+ Nota con respecto al algoritmo desarrollado: Debido a que el programa consiste en un loop infinito y para cerrar correctamente la aplicación Turtle se necesita que esta quede esperando una peticion de salida (click en la X de la interfaz), no fue posible desarrollar correctamente un final de la rutina. Por lo tanto, al cerrar la interfaz que se mostrará en pantalla una vez ud corra este script, se encontrará que el programa lanza un error. Si desea volver a ver la simulación, debe reiniciar el kernel si se encuentra trabajando con Jupyter Lab, y con esto, reiniciar todas las variables."
   ]
  }
 ],
 "metadata": {
  "kernelspec": {
   "display_name": "Python 3",
   "language": "python",
   "name": "python3"
  },
  "language_info": {
   "codemirror_mode": {
    "name": "ipython",
    "version": 3
   },
   "file_extension": ".py",
   "mimetype": "text/x-python",
   "name": "python",
   "nbconvert_exporter": "python",
   "pygments_lexer": "ipython3",
   "version": "3.7.3"
  }
 },
 "nbformat": 4,
 "nbformat_minor": 2
}
