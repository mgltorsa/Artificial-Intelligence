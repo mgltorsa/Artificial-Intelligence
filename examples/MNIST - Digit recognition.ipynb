{
 "cells": [
  {
   "cell_type": "markdown",
   "metadata": {},
   "source": [
    "<img  src=http://repository.icesi.edu.co/biblioteca_digital/image/icesi-logo.svg height=\"250\" width=\"250\">\n",
    "\n",
    "**Author: Javier Díaz, Christian Urcuqui**\n",
    "\n",
    "**Edited by: Miguel Ángel Torres Sánchez**\n",
    "\n",
    "Notas: Se usa este documento, propuesto por el profesor Christian Urcuqui, como una plantilla para el desarrollo de los análisis y sus conclusiones.\n",
    "El desarrollo de los algoritmos, sus mediciones y las conclusiones podran encontrarse más adelante en este documento a pártir del titulo: **Técnicas para el reconocimiento de digitos (shapes).**\n",
    "        "
   ]
  },
  {
   "cell_type": "markdown",
   "metadata": {},
   "source": [
    "# Programación tradicional vs. aprendizaje automático"
   ]
  },
  {
   "cell_type": "markdown",
   "metadata": {},
   "source": [
    "Imagínen que ustedes trabajan en el correo, y quieren automatizar el despacho de los paquetes y cartas.\n",
    "\n",
    "Ya disponen de un software que logra capturar las direcciones y separarlas caracter por caracter en imágenes de 8 píxeles x 8 píxeles en escala de grises, tales que 0 es el negro absoluto, y entre mayor el valor más claro el pixel.\n",
    "\n",
    "Ese software además puede inferir, según el lugar de los caracteres en la dirección, si cada caracter es una letra o un dígito, pero su labor se termina ahí. "
   ]
  },
  {
   "cell_type": "markdown",
   "metadata": {},
   "source": [
    "<img src=\"http://rasbt.github.io/mlxtend/user_guide/data/mnist_data_files/mnist_data_10_0.png\" />"
   ]
  },
  {
   "cell_type": "markdown",
   "metadata": {},
   "source": [
    "## Programación tradicional\n",
    "Ustedes ahora tienen que pensar en 2 programas diferentes: uno que pueda identificar las clases de las imágenes de dígitos (0 a 9) y otro que pueda clasificar los caracteres letra (a-z,A-Z).\n",
    "\n",
    "Centrémonos en el primer problema de clasificación de imágenes de dígitos."
   ]
  },
  {
   "cell_type": "markdown",
   "metadata": {},
   "source": [
    "Consideren que el dataset con las imágenes a tratar ya está disponible en una librería que produce el primer software:"
   ]
  },
  {
   "cell_type": "code",
   "execution_count": 1,
   "metadata": {},
   "outputs": [],
   "source": [
    "from sklearn.datasets import load_digits\n",
    "import pylab as pl\n",
    "import sklearn"
   ]
  },
  {
   "cell_type": "code",
   "execution_count": 2,
   "metadata": {},
   "outputs": [
    {
     "data": {
      "text/plain": [
       "sklearn.utils.Bunch"
      ]
     },
     "execution_count": 2,
     "metadata": {},
     "output_type": "execute_result"
    }
   ],
   "source": [
    "digits = load_digits()\n",
    "type(digits)"
   ]
  },
  {
   "cell_type": "code",
   "execution_count": null,
   "metadata": {},
   "outputs": [],
   "source": [
    "?sklearn.utils.Bunch"
   ]
  },
  {
   "cell_type": "code",
   "execution_count": 4,
   "metadata": {},
   "outputs": [
    {
     "data": {
      "text/plain": [
       "dict_keys(['data', 'target', 'target_names', 'images', 'DESCR'])"
      ]
     },
     "execution_count": 4,
     "metadata": {},
     "output_type": "execute_result"
    }
   ],
   "source": [
    "digits.keys()"
   ]
  },
  {
   "cell_type": "code",
   "execution_count": 5,
   "metadata": {},
   "outputs": [
    {
     "name": "stdout",
     "output_type": "stream",
     "text": [
      "[[ 0.  0.  0. 12. 13.  5.  0.  0.]\n",
      " [ 0.  0.  0. 11. 16.  9.  0.  0.]\n",
      " [ 0.  0.  3. 15. 16.  6.  0.  0.]\n",
      " [ 0.  7. 15. 16. 16.  2.  0.  0.]\n",
      " [ 0.  0.  1. 16. 16.  3.  0.  0.]\n",
      " [ 0.  0.  1. 16. 16.  6.  0.  0.]\n",
      " [ 0.  0.  1. 16. 16.  6.  0.  0.]\n",
      " [ 0.  0.  0. 11. 16. 10.  0.  0.]]\n"
     ]
    }
   ],
   "source": [
    "#for i in range(0,5):\n",
    "print(digits.images[1])"
   ]
  },
  {
   "cell_type": "code",
   "execution_count": 6,
   "metadata": {},
   "outputs": [
    {
     "name": "stdout",
     "output_type": "stream",
     "text": [
      "[13. 16. 16. 16. 16. 16. 16. 16.]\n"
     ]
    }
   ],
   "source": [
    "print(digits.images[1][:,4])"
   ]
  },
  {
   "cell_type": "code",
   "execution_count": 7,
   "metadata": {},
   "outputs": [
    {
     "name": "stdout",
     "output_type": "stream",
     "text": [
      "Se tienen en total: 1797 imágenes\n",
      "[[ 0.  0. 12.  8.  8.  7.  0.  0.]\n",
      " [ 0.  3. 16. 16. 11.  7.  0.  0.]\n",
      " [ 0.  2. 14.  1.  0.  0.  0.  0.]\n",
      " [ 0.  5. 14.  5.  0.  0.  0.  0.]\n",
      " [ 0.  2. 15. 16.  9.  0.  0.  0.]\n",
      " [ 0.  0.  0.  2. 16.  2.  0.  0.]\n",
      " [ 0.  0.  4.  8. 16.  4.  0.  0.]\n",
      " [ 0.  0. 11. 14.  9.  0.  0.  0.]]\n"
     ]
    },
    {
     "data": {
      "text/plain": [
       "<Figure size 432x288 with 0 Axes>"
      ]
     },
     "metadata": {},
     "output_type": "display_data"
    },
    {
     "data": {
      "image/png": "[encoded data removed]",
      "text/plain": [
       "<Figure size 288x288 with 1 Axes>"
      ]
     },
     "metadata": {
      "needs_background": "light"
     },
     "output_type": "display_data"
    }
   ],
   "source": [
    "digits = load_digits()\n",
    "pl.gray() # Queremos las imágenes en grises\n",
    "pl.matshow(digits.images[25]) # Imprimir una imagen dada\n",
    "numImagenes = len(digits.images) # Numero de imagenes, len es un método que provee el tamaño del arreglo\n",
    "print(\"Se tienen en total:\", numImagenes, \"imágenes\")\n",
    "print(digits.images[25]) # Ver su representación en pixeles"
   ]
  },
  {
   "cell_type": "code",
   "execution_count": 8,
   "metadata": {},
   "outputs": [
    {
     "data": {
      "text/plain": [
       "sklearn.utils.Bunch"
      ]
     },
     "execution_count": 8,
     "metadata": {},
     "output_type": "execute_result"
    }
   ],
   "source": [
    "type(digits)"
   ]
  },
  {
   "cell_type": "code",
   "execution_count": 9,
   "metadata": {},
   "outputs": [
    {
     "data": {
      "text/plain": [
       "\u001b[1;31mInit signature:\u001b[0m \u001b[0msklearn\u001b[0m\u001b[1;33m.\u001b[0m\u001b[0mutils\u001b[0m\u001b[1;33m.\u001b[0m\u001b[0mBunch\u001b[0m\u001b[1;33m(\u001b[0m\u001b[1;33m**\u001b[0m\u001b[0mkwargs\u001b[0m\u001b[1;33m)\u001b[0m\u001b[1;33m\u001b[0m\u001b[1;33m\u001b[0m\u001b[0m\n",
       "\u001b[1;31mDocstring:\u001b[0m     \n",
       "Container object for datasets\n",
       "\n",
       "Dictionary-like object that exposes its keys as attributes.\n",
       "\n",
       ">>> b = Bunch(a=1, b=2)\n",
       ">>> b['b']\n",
       "2\n",
       ">>> b.b\n",
       "2\n",
       ">>> b.a = 3\n",
       ">>> b['a']\n",
       "3\n",
       ">>> b.c = 6\n",
       ">>> b['c']\n",
       "6\n",
       "\u001b[1;31mFile:\u001b[0m           c:\\users\\mgltorsa\\anaconda3\\lib\\site-packages\\sklearn\\utils\\__init__.py\n",
       "\u001b[1;31mType:\u001b[0m           type\n",
       "\u001b[1;31mSubclasses:\u001b[0m     \n"
      ]
     },
     "metadata": {},
     "output_type": "display_data"
    }
   ],
   "source": [
    "?sklearn.utils.Bunch"
   ]
  },
  {
   "cell_type": "code",
   "execution_count": 10,
   "metadata": {},
   "outputs": [
    {
     "data": {
      "text/plain": [
       "array([[ 0.,  0.,  9., 14.,  8.,  1.,  0.,  0.],\n",
       "       [ 0.,  0., 12., 14., 14., 12.,  0.,  0.],\n",
       "       [ 0.,  0.,  9., 10.,  0., 15.,  4.,  0.],\n",
       "       [ 0.,  0.,  3., 16., 12., 14.,  2.,  0.],\n",
       "       [ 0.,  0.,  4., 16., 16.,  2.,  0.,  0.],\n",
       "       [ 0.,  3., 16.,  8., 10., 13.,  2.,  0.],\n",
       "       [ 0.,  1., 15.,  1.,  3., 16.,  8.,  0.],\n",
       "       [ 0.,  0., 11., 16., 15., 11.,  1.,  0.]])"
      ]
     },
     "execution_count": 10,
     "metadata": {},
     "output_type": "execute_result"
    }
   ],
   "source": [
    "digits['images'][8]"
   ]
  },
  {
   "cell_type": "markdown",
   "metadata": {},
   "source": [
    "Después de un proceso de etiquetado manual de varios días, realizado por un estudiante de pregrado en ingeniería de sistemas, en el que manualmente se clasificaron las imágenes una a una, se pudo obtener un *ground truth* con las clases reales de cada imagen.\n",
    "\n",
    "Las etiquetas de las imágenes que indican el dígito real se encuentran disponibles:"
   ]
  },
  {
   "cell_type": "code",
   "execution_count": 11,
   "metadata": {},
   "outputs": [
    {
     "name": "stdout",
     "output_type": "stream",
     "text": [
      "5\n"
     ]
    }
   ],
   "source": [
    "y = digits.target # el método nos provee las etiquetas de las imágenes en un arreglo\n",
    "print(y[25])"
   ]
  },
  {
   "cell_type": "markdown",
   "metadata": {},
   "source": [
    "Para poder simplificar la representación de los datos, se pueden aplanar las matrices de pixeles para poner cada imagen en un solo array de 64 pixeles:"
   ]
  },
  {
   "cell_type": "code",
   "execution_count": 12,
   "metadata": {},
   "outputs": [
    {
     "name": "stdout",
     "output_type": "stream",
     "text": [
      "[ 0.  0. 12.  8.  8.  7.  0.  0.  0.  3. 16. 16. 11.  7.  0.  0.  0.  2.\n",
      " 14.  1.  0.  0.  0.  0.  0.  5. 14.  5.  0.  0.  0.  0.  0.  2. 15. 16.\n",
      "  9.  0.  0.  0.  0.  0.  0.  2. 16.  2.  0.  0.  0.  0.  4.  8. 16.  4.\n",
      "  0.  0.  0.  0. 11. 14.  9.  0.  0.  0.]\n"
     ]
    }
   ],
   "source": [
    "X = digits.images.reshape((numImagenes, -1)) # se reducen las dimensiones\n",
    "print(X[25])"
   ]
  },
  {
   "cell_type": "markdown",
   "metadata": {},
   "source": [
    "**Traten de pensar en un programa tradicional que les permita clasificar cualquier imágen de números en el dígito correspondiente.**"
   ]
  },
  {
   "cell_type": "markdown",
   "metadata": {},
   "source": [
    "..."
   ]
  },
  {
   "cell_type": "markdown",
   "metadata": {},
   "source": [
    "..."
   ]
  },
  {
   "cell_type": "markdown",
   "metadata": {},
   "source": [
    "## Aprendizaje automático"
   ]
  },
  {
   "cell_type": "markdown",
   "metadata": {},
   "source": [
    "Con un modelo de **machine learning** se puede realizar esta tarea de una manera bastante sencilla."
   ]
  },
  {
   "cell_type": "code",
   "execution_count": 13,
   "metadata": {},
   "outputs": [],
   "source": [
    "#from sklearn.model_selection import train_test_split\n",
    "from sklearn.naive_bayes import GaussianNB\n",
    "import sklearn.metrics as metrics\n",
    "import pylab as plt\n",
    "\n",
    "gnb = GaussianNB()\n",
    "fit = gnb.fit(X, y)"
   ]
  },
  {
   "cell_type": "markdown",
   "metadata": {},
   "source": [
    "Se pueden evaluar las clases estimadas por el modelo vs. las clases reales"
   ]
  },
  {
   "cell_type": "code",
   "execution_count": 14,
   "metadata": {},
   "outputs": [
    {
     "name": "stdout",
     "output_type": "stream",
     "text": [
      "Reales   : [0 1 2 3 4 5 6 7 8 9 0 1 2 3 4 5 6 7 8 9 0 1 2 3 4]\n",
      "Estimados: [0 1 8 3 4 9 6 7 8 9 0 1 2 3 4 5 6 7 7 3 0 1 2 3 4]\n"
     ]
    }
   ],
   "source": [
    "y_estimado = fit.predict(X)\n",
    "print(\"Reales   :\", y[0:25])\n",
    "print(\"Estimados:\", y_estimado[0:25])"
   ]
  },
  {
   "cell_type": "markdown",
   "metadata": {},
   "source": [
    "Podemos tener una idea más clara de los casos en los que se equivoca el modelo:"
   ]
  },
  {
   "cell_type": "code",
   "execution_count": 15,
   "metadata": {},
   "outputs": [
    {
     "data": {
      "image/png": "[encoded data removed]",
      "text/plain": [
       "<Figure size 432x288 with 15 Axes>"
      ]
     },
     "metadata": {
      "needs_background": "light"
     },
     "output_type": "display_data"
    }
   ],
   "source": [
    "images_and_predictions = list(zip(digits.images, y_estimado))\n",
    "for index, (image, prediction) in enumerate(images_and_predictions[:15]):\n",
    "    plt.subplot(3,5, index+1) #se crean los placeholders de 3x5 filasXcolumnas\n",
    "    plt.axis('off')  #se quitan los ejes\n",
    "    plt.imshow(image, cmap=plt.cm.gray_r)\n",
    "    plt.title('Pred: %i' % prediction)\n",
    "plt.show()"
   ]
  },
  {
   "cell_type": "markdown",
   "metadata": {},
   "source": [
    "Nos gustaría tener una idea de la correctitud global del modelo aprendido."
   ]
  },
  {
   "cell_type": "code",
   "execution_count": 16,
   "metadata": {},
   "outputs": [
    {
     "data": {
      "text/plain": [
       "0.8580968280467446"
      ]
     },
     "execution_count": 16,
     "metadata": {},
     "output_type": "execute_result"
    }
   ],
   "source": [
    "metrics.accuracy_score(y, y_estimado)"
   ]
  },
  {
   "cell_type": "markdown",
   "metadata": {},
   "source": [
    "# Técnicas para el reconocimiento de digitos (shapes) \n",
    "## A partir de aqui, se presentarán diferentes técnicas y se evaluaran.\n",
    "Previamente hemos podido utilizar las herramientas de sklearn para cargar las imágenes del dataset notMNIST, a través de pylab visualizamos una muestra y finalmente utilizamos un primer algoritmo de machine learning (Naive Bayes) para el entrenamiento y la predicción de un conjunto de imágenes.\n",
    "\n",
    "Su trabajo es aplicar un método de programación tradicional, es decir, sin usar modelos basados en machine learning. El método debe estar en la capacidad de identificar la etiqueta (el número asignado a la imagen) del conjunto de NotMNIST.\n",
    "\n",
    "Cada pareja de estudiantes se debe encargar de predecir 2 dígitos, específicamente, cada grupo debe seleccionar entre las siguientes opciones de dígitos:\n",
    "\n",
    "+ 1 y 5\n",
    "+ 8 y 2\n",
    "+ 9 y 7\n",
    "+ 0 y 3\n",
    "+ 4 y 6\n",
    "\n",
    "Cada dígito implica la creación de un modelo de clasificación para disitinguir si el dígito está o no en la imagen.\n",
    "Una vez implementados los modelos, para cada modelo, calcule:\n",
    "+ El accuracy y kappa global de cada clasificador\n",
    "+ El precision, recall, especificidad y F-Measure de cada clase\n"
   ]
  },
  {
   "cell_type": "markdown",
   "metadata": {},
   "source": [
    "# Desarrollo Tarea\n",
    "## Preparación\n",
    "\n",
    "Antes de implementar las técnicas y desarrollar los análisis, importaremos time que nos permitirá medir los tiempos de ejecución de las rutinas necesarias."
   ]
  },
  {
   "cell_type": "code",
   "execution_count": 17,
   "metadata": {},
   "outputs": [],
   "source": [
    "from time import time"
   ]
  },
  {
   "cell_type": "markdown",
   "metadata": {},
   "source": [
    "## Reconocimiento a tráves de un algoritmo deterministico\n",
    "\n",
    "Repositorios: \n",
    "-Fork Data-science: https://github.com/mgltorsa/Data-Science/blob/master/Artificial%20Intelligence/machine%20learning/MNIST%20-%20Programación%20Tradicional%20vs.%20Machine%20Learning.ipynb\n",
    "-Handwritten-shapes: https://github.com/mgltorsa/Handwritten-shapes\n",
    "\n",
    "Se implementaron 2 modulos en python, llamados main.py y shapes.py, en esta ultima una pequeña clase llamada Shape,\n",
    "\n",
    "En la clase Shape estan implementados diversos metodos que permiten un mejor manejo del problema, ademas de esto cuenta con unos atributos como: __shape (Matriz ideal que se usara para evaluar las otras matrices), __sumValues (suma de los valores de esta matriz ideal)\n",
    "\n",
    "El metodo preProcessing en Shape se usa en palabras generales para preparar una matriz objetivo de evaluacion para el proceso de determinar que numero es (leer documentacion).\n",
    "\n",
    "Para calcular la semejanza en matrices se usa el metodo calculateLikeness en Shape que evalua una matriz objetivo y determina si es o no el numero representado en la matriz del objeto de tipo Shape (atributo __shape).\n",
    "\n",
    "\n",
    "\n"
   ]
  },
  {
   "cell_type": "code",
   "execution_count": 32,
   "metadata": {
    "scrolled": true
   },
   "outputs": [],
   "source": [
    "import copy\n",
    "import math\n",
    "class Shape:\n",
    "    MAXVALUE = 12\n",
    "\n",
    "    def __init__(self,matrix):\n",
    "        self.__shape=matrix\n",
    "        self.__sumValues=0\n",
    "        for row in matrix:\n",
    "            for column in row:\n",
    "                self.__sumValues+=column\n",
    "            \n",
    "    \"\"\"\n",
    "    devuelve una matriz con los valores aumentados\n",
    "    en la proporcion del mayor numero soble MAXVALUE\n",
    "    \"\"\"\n",
    "    def preProcessing(self, matri):\n",
    "        max = -1\n",
    "        matrix=copy.deepcopy(matri)\n",
    "        for row in matrix:\n",
    "            for column in row:\n",
    "                if column > max:\n",
    "                    max = column\n",
    "        increment = (Shape.MAXVALUE-max)/max\n",
    "        increment += 1\n",
    "        \n",
    "        for row in matrix:\n",
    "            for  i in range(0,len(row)):\n",
    "                row[i] *= increment\n",
    "                row[i]=int(row[i])\n",
    "        return matrix\n",
    "    \n",
    "    \"\"\"\n",
    "    calcula la semejanza entre las matrices matrix y self.__shape\n",
    "    calculando la matriz diferencia entre ellas, luego se suman los\n",
    "    valores de esta matriz, para finalmente dividirlo por la suma de\n",
    "    los valores en self.__shape\n",
    "    \"\"\"\n",
    "    def calculateLikeness(self,matrix):\n",
    "        matrixSubst=0\n",
    "        for row in range(0,len(matrix)):\n",
    "            for column in range(len(matrix[0])):\n",
    "                matrixSubst+=math.fabs(matrix[row][column]-self.__shape[row][column])\n",
    "        tmp= matrixSubst/self.__sumValues\n",
    "        return 1-tmp\n",
    "    \"\"\"\n",
    "        pinta la matriz de la forma \n",
    "        [\n",
    "            [item,...,item-n],\n",
    "            .\n",
    "            .\n",
    "            [item,...,item-n],\n",
    "        ]\n",
    "    \"\"\"\n",
    "    def print_matrix(self):\n",
    "        print(\"[\", end=\"\")\n",
    "        for i in range(0, len(self.__shape)-1):\n",
    "            print(str(self.__shape[i])+\",\")\n",
    "        print(str(self.__shape[len(self.__shape)-1]), end=\"\")\n",
    "        print(\"]\")"
   ]
  },
  {
   "cell_type": "markdown",
   "metadata": {},
   "source": [
    "### Matrices ideales\n",
    "\n",
    "Debido a la implementación de este algoritmo, definiremos una variable donde guardaremos y acumularemos el tiempo de entrenamiento de este algoritmo, que realmente es el tiempo de carga y filtrado de sus diferentes valores.\n",
    "\n",
    "Definimos la variable que almacenará el tiempo del algoritmo deterministico."
   ]
  },
  {
   "cell_type": "code",
   "execution_count": 83,
   "metadata": {},
   "outputs": [],
   "source": [
    "deterministic_time = 0.0"
   ]
  },
  {
   "cell_type": "markdown",
   "metadata": {},
   "source": [
    "Estas matrices son las representaciones ideales de los numeros 4 y 7, las cuales se usarán para realizar comparar las imagenes del 4 y el 7 que nos proporciona el dataset de sklearn.\n",
    "Nota, dado que estas matrices se podrían considerar parte del tiempo de entrenamiento o de preparación de nuestro algoritmo, aunque sea minimo, tomaremos en cuenta el tiempo que tardan en inicializarse y asignarse."
   ]
  },
  {
   "cell_type": "code",
   "execution_count": 90,
   "metadata": {},
   "outputs": [
    {
     "name": "stdout",
     "output_type": "stream",
     "text": [
      "Tiempo de carga de ambas matrices 0.001\n"
     ]
    }
   ],
   "source": [
    "start_time = time()\n",
    "\n",
    "\"\"\"Matriz ideal para el número 4\"\"\"\n",
    "matrix_4=  [[0.0, 0.0, 0.0, 1.0, 11.0, 0.0, 0.0, 0.0],\n",
    "[0.0, 0.0, 0.0, 7.0, 8.0, 0.0, 0.0, 0.0],\n",
    "[0.0, 0.0, 1.0, 13.0, 6.0, 2.0, 2.0, 0.0],\n",
    "[0.0, 0.0, 7.0, 15.0, 0.0, 9.0, 8.0, 0.0],\n",
    "[0.0, 5.0, 16.0, 10.0, 0.0, 16.0, 6.0, 0.0],\n",
    "[0.0, 4.0, 15.0, 16.0, 13.0, 16.0, 1.0, 0.0],\n",
    "[0.0, 0.0, 0.0, 3.0, 15.0, 10.0, 0.0, 0.0],\n",
    "[0.0, 0.0, 0.0, 2.0, 16.0, 4.0, 0.0, 0.0]]\n",
    "\n",
    "\"\"\"Matriz ideal para el número 7\"\"\"\n",
    "matrix_7=   [[0.0, 0.0, 7.0, 8.0, 13.0, 16.0, 15.0, 1.0],\n",
    "[0.0, 0.0, 7.0, 7.0, 4.0, 11.0, 12.0, 0.0],\n",
    "[0.0, 0.0, 0.0, 0.0, 8.0, 13.0, 1.0, 0.0],\n",
    "[0.0, 4.0, 8.0, 8.0, 15.0, 15.0, 6.0, 0.0],\n",
    "[0.0, 2.0, 11.0, 15.0, 15.0, 4.0, 0.0, 0.0],\n",
    "[0.0, 0.0, 0.0, 16.0, 5.0, 0.0, 0.0, 0.0],\n",
    "[0.0, 0.0, 9.0, 15.0, 1.0, 0.0, 0.0, 0.0],\n",
    "[0.0, 0.0, 13.0, 5.0, 0.0, 0.0, 0.0, 0.0]]\n",
    "\n",
    "neural_time=time()-start_time\n",
    "print(\"Tiempo de carga de ambas matrices %.3f\" % (neural_time))"
   ]
  },
  {
   "cell_type": "markdown",
   "metadata": {},
   "source": [
    "Logramos observar que el tiempo es casi cero."
   ]
  },
  {
   "cell_type": "markdown",
   "metadata": {},
   "source": [
    "### Main\n",
    "\n",
    "En este script encontraremos una clase Main que nos permitira cargar las matrices en sklear.datasets y usar la clase shape para evaluar estas matrices (Leer documentacion en script).\n",
    "\n",
    "Nota: En la clase Main encontrará un valor denominado RATE, que indica el valor minimo de coincidencia que nuestro algoritmo comparador debe retornarnos para indicar que el número a evaluar es aquel con el que estamos evaluando. Por ejemplo:\n",
    "Al correr el test con el número 4, el programa cargara y filtrará en un array, las imagenes del número 4 contenidas en las imagenes del dataset, luego cargara la matriz ideal del número 4 y la usará para analizar, que valores de ese array podrian ser un 4 junto a su porcentaje de coincidencia, el cual, si resulta ser superior al 50% (0.5) indicará que es un posible candidato a ser el 4.\n"
   ]
  },
  {
   "cell_type": "code",
   "execution_count": 99,
   "metadata": {},
   "outputs": [],
   "source": [
    "import pathlib\n",
    "from sklearn.datasets import load_digits\n",
    "import pylab as pl\n",
    "import sklearn\n",
    "\n",
    "\n",
    "class Main:\n",
    "\n",
    "    RATE=0.5\n",
    "    \n",
    "    \"\"\"\n",
    "        Inicializa la un objeto de tipo Main\n",
    "    \"\"\"\n",
    "    def __init__(self):\n",
    "        self.array_passed_key = \"array_passed\"\n",
    "        self.successful_key = \"successful\"\n",
    "        self.total_evaluated_key = \"total_evaluated\"\n",
    "        self.digits=None\n",
    "        self.targets=None  \n",
    "\n",
    "    \"\"\"\n",
    "    Carga los digitos y los objetivos\n",
    "    \"\"\"\n",
    "    def load_default(self):\n",
    "        self.digits = load_digits()\n",
    "        self.targets = self.digits.target\n",
    "\n",
    "    \"\"\"retorna la matriz ideal dependiendo el parametro number\"\"\"\n",
    "    def load_number_file(self,number):\n",
    "        if number==4:\n",
    "            return matrix_4\n",
    "        else:\n",
    "            return matrix_7\n",
    "\n",
    "    \"\"\"Filtra la lista de los targets para hallar los indices de aquellas imagenes en \n",
    "        digits que son 7s o 4s (dependiendo el parametro number1)\n",
    "    \"\"\"\n",
    "    def list_filter(self,number1, targets):\n",
    "        indices_list = []\n",
    "        for i in range(0, len(targets)):\n",
    "            if targets[i] == number1:\n",
    "                indices_list.append(i)\n",
    "        return indices_list\n",
    "\n",
    "    # Corremos el test de un número\n",
    "\n",
    "    \"\"\"Carga las matrices ideales las cuales usaremos para determinar si las matrices en digits\n",
    "        son 7s o 4s\n",
    "    \"\"\"\n",
    "\n",
    "    def run_test(self,number: int):\n",
    "        \"\"\"Cargamos las matrices ideales para armar nuestros shapes\"\"\"\n",
    "        matrix = self.load_number_file(number)\n",
    "        \n",
    "\n",
    "        \"\"\"Cargamos y filtramos los indices de las imagenes de estan los digitos\"\"\"\n",
    "\n",
    "        indices_list = self.list_filter(number, self.targets)\n",
    "\n",
    "        \n",
    "        \"\"\"Creamos los shapes\"\"\"\n",
    "        shape = Shape(matrix)\n",
    "\n",
    "        total_evaluated = len(indices_list)\n",
    "        successful = 0\n",
    "\n",
    "        array_passed_indices = []\n",
    "\n",
    "        \"\"\"Preparamos cada uno de los targets con el preprocesamiento\"\"\"\n",
    "        for i in indices_list:\n",
    "\n",
    "            preprocessed_matrix = shape.preProcessing(self.digits.images[i])\n",
    "            # Result es la probabilidad de que sea el número.\n",
    "            result = shape.calculateLikeness(preprocessed_matrix)\n",
    "            #Si el resultado es >= 50% entonces es posible que este número sea el número de la matrix que se\n",
    "            #esta usando. Luego comparamos si realmente si era el número que se esperaba.\n",
    "            if result >= Main.RATE and self.targets[i] == number:\n",
    "                array_passed_indices.append(i)\n",
    "                successful += 1\n",
    "            \n",
    "            \"\"\"print(self.digits.images[i])\n",
    "            shape.print_matrix()\"\"\"\n",
    "\n",
    "        return {\n",
    "            self.array_passed_key: array_passed_indices,\n",
    "            self.successful_key: successful,\n",
    "            self.total_evaluated_key: total_evaluated\n",
    "        }\n",
    "\n",
    "    \n",
    "    \"\"\"Imprime una matriz con el siguiente formato:\n",
    "        [[],\n",
    "         [],\n",
    "         []]\n",
    "    \"\"\"\n",
    "    def print_matrix(self,matrix):\n",
    "        print(\"[\", end=\"\")\n",
    "        for i in range(0, len(matrix)-1):\n",
    "            print(str(matrix[i])+\",\")\n",
    "        print(str(matrix[len(matrix)-1]), end=\"\")\n",
    "        print(\"]\")\n",
    "        \n",
    "    \"\"\"Realiza el test a un número usando el metodo run_test\n",
    "        y determina el accurancy con los datos obtenidos en el metodo run_test\n",
    "        \n",
    "        Ret : rate,successfull,total_evaluated:list,array_evaluated:list\n",
    "        \n",
    "    \"\"\"\n",
    "    def test_number(self,number):\n",
    "        result = self.run_test(number)\n",
    "        total_evaluated = result[self.total_evaluated_key]\n",
    "        successful = result[self.successful_key]\n",
    "        array_passed = result[self.array_passed_key]\n",
    "        rate = successful/total_evaluated\n",
    "        return rate,successful,total_evaluated,array_passed\n",
    "    \n",
    "\n",
    "\n",
    "##FIN DEL MAIN CLASS\n",
    "\n",
    "\n"
   ]
  },
  {
   "cell_type": "markdown",
   "metadata": {},
   "source": [
    "A continuación corremos el test donde miraremos, para un arreglo de 4 o 7 dependiendo el número a evaluar, en que grado el algoritmo acertó en su comparación.\n",
    "\n",
    "Entonces guardamos estas accuracy en 2 variables, que llamaremos: determinstic_4_accuracy y determinstic_7_accuracy."
   ]
  },
  {
   "cell_type": "code",
   "execution_count": 102,
   "metadata": {},
   "outputs": [
    {
     "name": "stdout",
     "output_type": "stream",
     "text": [
      "0.18232044198895028\n",
      "0.24022346368715083\n"
     ]
    }
   ],
   "source": [
    "main = Main()\n",
    "\n",
    "#Carga las matrices en el dataset\n",
    "main.load_default()\n",
    "\n",
    "rate,successful,total_evaluated,array_passed =main.test_number(4)\n",
    "\n",
    "deterministic_4_accuracy = rate\n",
    "\n",
    "rate2,successful2,total_evaluated2,array_passed2 =main.test_number(7)\n",
    "\n",
    "deterministic_4_accuracy = rate2\n",
    "\n",
    "\n",
    "\n",
    "#Hacemos que el algoritmo decida que números son 4 y miramos su accuracy.\n",
    "print(rate)\n",
    "#Hacemos que el algoritmo decida que números son 7\n",
    "print(rate2)\n",
    "\n"
   ]
  },
  {
   "cell_type": "markdown",
   "metadata": {},
   "source": [
    "Ahora bien presentamos un pequeño algoritmo para que el usuario interactue un poco con el programa"
   ]
  },
  {
   "cell_type": "code",
   "execution_count": 42,
   "metadata": {},
   "outputs": [
    {
     "name": "stdout",
     "output_type": "stream",
     "text": [
      "Solo ingrese el 4 o el 7\n"
     ]
    },
    {
     "name": "stdin",
     "output_type": "stream",
     "text": [
      "Ingrese número a probar, si no ingresa nada y presiona enter, saldrá:  \n"
     ]
    },
    {
     "name": "stdout",
     "output_type": "stream",
     "text": [
      "se finalizó el test\n"
     ]
    }
   ],
   "source": [
    "#Permite al usuario entre escoger evaluar el 4 o el 7\n",
    "print(\"Solo ingrese el 4 o el 7\")\n",
    "\n",
    "while True:\n",
    "    inp = input(\"Ingrese número a probar, si no ingresa nada y presiona enter, saldrá: \")\n",
    "    if inp:\n",
    "        number = int(inp)\n",
    "        print(main.test_number(number))\n",
    "    else:\n",
    "        print(\"se finalizó el test\")\n",
    "        break"
   ]
  },
  {
   "cell_type": "markdown",
   "metadata": {},
   "source": [
    "## Reconocimiento a tráves de machine learning\n",
    "### Usando KNN ( k-nearest neighbors )\n",
    "\n",
    "Para este punto la variable X con las imagenes y la variable y ya estan definidas, junto a los imports de sklearn.metrics."
   ]
  },
  {
   "cell_type": "markdown",
   "metadata": {},
   "source": [
    "Definimos una variable en la cual guardaremos el tiempo medido para la fase de entrenamiento del algoritmo."
   ]
  },
  {
   "cell_type": "code",
   "execution_count": 43,
   "metadata": {},
   "outputs": [],
   "source": [
    "knn_time = 0.0"
   ]
  },
  {
   "cell_type": "markdown",
   "metadata": {},
   "source": [
    "Definimos los porcentajes de entrenamiento y de prueba."
   ]
  },
  {
   "cell_type": "code",
   "execution_count": 44,
   "metadata": {},
   "outputs": [],
   "source": [
    "training_percentage=0.8"
   ]
  },
  {
   "cell_type": "markdown",
   "metadata": {},
   "source": [
    "La cantidad de datos para entrenamiento"
   ]
  },
  {
   "cell_type": "code",
   "execution_count": 45,
   "metadata": {},
   "outputs": [
    {
     "data": {
      "text/plain": [
       "1437"
      ]
     },
     "execution_count": 45,
     "metadata": {},
     "output_type": "execute_result"
    }
   ],
   "source": [
    "training_limit = int(training_percentage * len(y))\n",
    "training_limit"
   ]
  },
  {
   "cell_type": "markdown",
   "metadata": {},
   "source": [
    "La cantidad de datos para prueba."
   ]
  },
  {
   "cell_type": "code",
   "execution_count": 46,
   "metadata": {},
   "outputs": [
    {
     "data": {
      "text/plain": [
       "1437"
      ]
     },
     "execution_count": 46,
     "metadata": {},
     "output_type": "execute_result"
    }
   ],
   "source": [
    "test_index = training_limit\n",
    "test_index"
   ]
  },
  {
   "cell_type": "markdown",
   "metadata": {},
   "source": [
    "Redefinimos los valores de la variable X y la variable y"
   ]
  },
  {
   "cell_type": "markdown",
   "metadata": {},
   "source": [
    "Definimos los targets y imagenes para el entrenamiento y las pruebas."
   ]
  },
  {
   "cell_type": "code",
   "execution_count": 47,
   "metadata": {},
   "outputs": [],
   "source": [
    "training_targets = digits.target[0:training_limit]\n",
    "training_images = digits.images[0:training_limit].reshape(len(training_targets),-1)\n",
    "\n",
    "test_targets = y[test_index:]\n",
    "test_images = X[test_index:].reshape(len(test_targets),-1)"
   ]
  },
  {
   "cell_type": "markdown",
   "metadata": {},
   "source": [
    "### Usando el KNN\n",
    "Continuamos a implementar y entrenar el KNeighborsClassifier de la libreria sklearn"
   ]
  },
  {
   "cell_type": "code",
   "execution_count": 48,
   "metadata": {},
   "outputs": [],
   "source": [
    "from sklearn.neighbors import KNeighborsClassifier\n",
    "knn = KNeighborsClassifier()\n",
    "start_time = time()\n",
    "fit = knn.fit(training_images,training_targets)\n",
    "knn_time = time()-start_time"
   ]
  },
  {
   "cell_type": "markdown",
   "metadata": {},
   "source": [
    "Ahora bien, miremos las estadisticas."
   ]
  },
  {
   "cell_type": "code",
   "execution_count": 49,
   "metadata": {},
   "outputs": [
    {
     "name": "stdout",
     "output_type": "stream",
     "text": [
      "Reales    : [2 3 4 5 6 7 8 9 0 9 5 5 6 5 0 9 8 9 8 4 1 7 7 3 5]\n",
      "Estimados : [2 3 4 5 6 7 8 9 0 9 5 5 6 5 0 9 8 9 8 4 1 7 7 3 5]\n"
     ]
    }
   ],
   "source": [
    "predicted = fit.predict(test_images)\n",
    "print(\"Reales    :\",test_targets[0:25])\n",
    "print(\"Estimados :\",predicted[0:25])"
   ]
  },
  {
   "cell_type": "markdown",
   "metadata": {},
   "source": [
    "Medimos el accuracy de la predicción."
   ]
  },
  {
   "cell_type": "code",
   "execution_count": 50,
   "metadata": {},
   "outputs": [
    {
     "data": {
      "text/plain": [
       "0.9638888888888889"
      ]
     },
     "execution_count": 50,
     "metadata": {},
     "output_type": "execute_result"
    }
   ],
   "source": [
    "knn_accuracy = metrics.accuracy_score(test_targets, predicted)\n",
    "knn_accuracy"
   ]
  },
  {
   "cell_type": "markdown",
   "metadata": {},
   "source": [
    "Imprimimos los datos medidos para el Knn"
   ]
  },
  {
   "cell_type": "code",
   "execution_count": 51,
   "metadata": {},
   "outputs": [
    {
     "name": "stdout",
     "output_type": "stream",
     "text": [
      "Printing Knn meassures\n",
      "Accuracy :  0.9638888888888889\n",
      "Time     :  0.04687380790710449\n"
     ]
    }
   ],
   "source": [
    "print(\"Printing Knn meassures\")\n",
    "print(\"Accuracy : \",knn_accuracy)\n",
    "print(\"Time     : \",knn_time)"
   ]
  },
  {
   "cell_type": "markdown",
   "metadata": {},
   "source": [
    "## Reconocimiento mediante redes neuronales.\n",
    "### Usando redes neuronales de sklearn\n",
    "Se realizan los imports de tensorflow junto a keras, que nos permitira crear un modelo y entrenarlo, así, definimos nuestra red neuronal."
   ]
  },
  {
   "cell_type": "code",
   "execution_count": 54,
   "metadata": {},
   "outputs": [],
   "source": [
    "import tensorflow as tf\n",
    "from tensorflow import keras"
   ]
  },
  {
   "cell_type": "markdown",
   "metadata": {},
   "source": [
    "Definimos la variable donde guardaremos el tiempo de entrenamiento de la red neuronal."
   ]
  },
  {
   "cell_type": "code",
   "execution_count": 55,
   "metadata": {},
   "outputs": [],
   "source": [
    "neural_time = 0.0"
   ]
  },
  {
   "cell_type": "markdown",
   "metadata": {},
   "source": [
    "Ahora bien crearemos una red neuronal que contará con 5 capas, la primera de ellas tendrá 128 neuronas, y cada una de las siguientes: 80,60,50,10. Lo que significa que la respuesta de predicción del algoritmo se dara en un tensor de dimension 10 que representará las probabilidades de que la imagen pasada para predicción, pertenezca a cada uno de los 10 grupos (grupo1=0, grupo2=1.... grupo10=9, los números del 0 al 9)."
   ]
  },
  {
   "cell_type": "code",
   "execution_count": 173,
   "metadata": {},
   "outputs": [
    {
     "data": {
      "text/plain": [
       "<tensorflow.python.keras.engine.sequential.Sequential at 0x24d37ca29e8>"
      ]
     },
     "execution_count": 173,
     "metadata": {},
     "output_type": "execute_result"
    }
   ],
   "source": [
    "model = keras.Sequential([\n",
    "    keras.layers.Dense(128, activation=tf.nn.relu),\n",
    "    keras.layers.Dense(80),\n",
    "    keras.layers.Dense(60),\n",
    "    keras.layers.Dense(50),\n",
    "    keras.layers.Dense(10, activation=tf.nn.softmax)    \n",
    "])\n",
    "model"
   ]
  },
  {
   "cell_type": "markdown",
   "metadata": {},
   "source": [
    "Ahora bien, podemos indicarle a nuestro modelo las metricas que debe evaluar junto la estrategia de optimización que debe tomar para mejorar la red, en este caso: sgd, el descenso de gradiente estocastico y la función que abarcará para esto, en este caso el sparse categorical crossentropy, usado generalmente cuando se las clases en las que se van a clasificar los miembros evaluados son mutuamente excluyentes, es decir, que un individuo pertence unicamente a una clase."
   ]
  },
  {
   "cell_type": "code",
   "execution_count": 174,
   "metadata": {},
   "outputs": [],
   "source": [
    "model.compile(optimizer='sgd',loss='sparse_categorical_crossentropy',metrics=['accuracy'])"
   ]
  },
  {
   "cell_type": "markdown",
   "metadata": {},
   "source": [
    "Ahora bien, entrenameros el modelo con las imagenes y los targets de training definidos en [Reconocimiento a tráves de machine learning](##Reconocimiento-a-tráves-de-machine-learning).\n",
    "Ademas, usaremos el parametro epochs para indicarle a la red neuronal en cuantas fases (cuantas repeticiones) debe hacer en su entrenamiento.\n",
    "\n",
    "Nota: se medira el tiempo de entrenamiento del modelo y se almacenara en la variable neural_time."
   ]
  },
  {
   "cell_type": "code",
   "execution_count": 176,
   "metadata": {},
   "outputs": [
    {
     "name": "stdout",
     "output_type": "stream",
     "text": [
      "Epoch 1/5\n",
      "1437/1437 [==============================] - 0s 94us/sample - loss: 0.0200 - acc: 0.9972\n",
      "Epoch 2/5\n",
      "1437/1437 [==============================] - 0s 96us/sample - loss: 0.0159 - acc: 0.9993\n",
      "Epoch 3/5\n",
      "1437/1437 [==============================] - 0s 83us/sample - loss: 0.0142 - acc: 1.0000\n",
      "Epoch 4/5\n",
      "1437/1437 [==============================] - 0s 86us/sample - loss: 0.0125 - acc: 0.9993\n",
      "Epoch 5/5\n",
      "1437/1437 [==============================] - 0s 87us/sample - loss: 0.0115 - acc: 1.0000\n",
      "Tiempo de entrenamiento 0.678 \n"
     ]
    }
   ],
   "source": [
    "start_time = time()\n",
    "model.fit(training_images,training_targets, epochs=5)\n",
    "neural_time = time() - start_time\n",
    "\n",
    "print(\"Tiempo de entrenamiento %.3f \" % (neural_time))"
   ]
  },
  {
   "cell_type": "markdown",
   "metadata": {},
   "source": [
    "Una vez entrenada la red neuronal, la usaremos para analizar las predicciones que realiza con respecto a el conjunto test designado anteriormente en el ejercicio [Reconocimiento a tráves de machine learning](##Reconocimiento-a-tráves-de-machine-learning)"
   ]
  },
  {
   "cell_type": "code",
   "execution_count": 177,
   "metadata": {},
   "outputs": [
    {
     "name": "stdout",
     "output_type": "stream",
     "text": [
      "Reales    : [2 3 4 5 6 7 8 9 0 9 5 5 6 5 0 9 8 9 8 4 1 7 7 3 5]\n",
      "Estimados : [[2.53722580e-13 8.98585455e-08 9.99999881e-01 1.73208115e-08\n",
      "  2.80452344e-17 3.44483873e-08 3.25733746e-11 1.40115360e-14\n",
      "  1.76272650e-08 5.06462072e-09]\n",
      " [3.34043708e-12 2.96543434e-09 1.21869263e-07 9.99992013e-01\n",
      "  1.41763178e-14 2.93629023e-06 2.81518007e-15 4.32117142e-09\n",
      "  4.19356496e-08 4.93356129e-06]\n",
      " [4.87529461e-10 2.03592478e-07 2.25968658e-12 1.82795639e-14\n",
      "  9.99995232e-01 5.38474065e-09 7.71497696e-07 3.87276350e-06\n",
      "  8.14612200e-09 5.45394242e-13]\n",
      " [3.15905054e-05 9.57666998e-07 4.60777372e-08 1.92907266e-02\n",
      "  4.34264693e-05 9.64976609e-01 6.12314352e-07 3.42469178e-07\n",
      "  2.20948525e-04 1.54347811e-02]\n",
      " [1.29498130e-05 3.54992210e-07 4.34933725e-08 2.06006145e-08\n",
      "  1.57248348e-06 4.43560493e-05 9.99915719e-01 1.44912511e-11\n",
      "  2.50147987e-05 5.33673314e-11]\n",
      " [9.20383103e-10 8.13574035e-12 3.51487301e-07 4.58458871e-08\n",
      "  5.97829398e-07 3.39334838e-06 5.35453897e-13 9.99995589e-01\n",
      "  9.77259074e-09 7.37402361e-09]\n",
      " [5.26086467e-07 1.73130702e-05 1.29135733e-04 4.21238616e-02\n",
      "  2.49855162e-07 1.97174566e-04 1.87908029e-06 2.55153464e-05\n",
      "  8.95199537e-01 6.23048097e-02]\n",
      " [4.68226602e-07 3.83460019e-08 2.16572589e-05 2.72338721e-03\n",
      "  6.87408117e-11 1.72332540e-04 1.91334708e-11 3.48684148e-06\n",
      "  2.04984444e-05 9.97058153e-01]\n",
      " [9.99925375e-01 1.77395112e-08 1.14463974e-05 2.28639916e-08\n",
      "  1.26091336e-07 3.59277874e-05 2.46909476e-05 2.33817696e-06\n",
      "  4.34810197e-08 8.11866130e-08]\n",
      " [1.69197776e-07 5.02685396e-08 1.23597119e-05 1.00547932e-02\n",
      "  9.86977253e-12 3.03084002e-04 7.71466604e-13 1.06553880e-05\n",
      "  4.60893443e-06 9.89614308e-01]\n",
      " [1.12567750e-06 2.85433432e-09 5.91512794e-08 3.76849130e-05\n",
      "  1.41515697e-11 9.99954104e-01 2.89803265e-10 4.40461639e-10\n",
      "  6.02977757e-09 7.04646982e-06]\n",
      " [2.04094430e-08 1.38805301e-10 1.82840132e-09 9.53821364e-05\n",
      "  8.42618835e-13 9.99904275e-01 2.14943428e-12 9.44117701e-11\n",
      "  3.82666482e-10 3.60618287e-07]\n",
      " [3.41768623e-06 3.88352134e-07 1.11404042e-09 5.87701436e-07\n",
      "  1.55557973e-05 8.16356442e-06 9.99967694e-01 2.93974151e-11\n",
      "  4.11521432e-06 5.88729621e-11]\n",
      " [1.37244683e-06 1.60567410e-07 3.50879219e-08 8.88640102e-07\n",
      "  2.36037457e-11 9.99994516e-01 4.70245731e-10 9.63162217e-10\n",
      "  6.76747414e-09 2.98332247e-06]\n",
      " [9.99974728e-01 6.42163833e-09 2.27605619e-06 3.26515837e-09\n",
      "  6.64163968e-09 2.11833867e-05 6.87292072e-07 8.56217184e-07\n",
      "  6.06717947e-08 1.53221549e-07]\n",
      " [1.02940321e-04 5.75733523e-08 8.86088947e-06 1.15416669e-05\n",
      "  1.07107699e-11 6.71993708e-04 1.31126818e-10 4.80451263e-07\n",
      "  8.49499411e-05 9.99119222e-01]\n",
      " [1.12153650e-07 5.69946897e-05 8.73862227e-05 9.78919197e-05\n",
      "  7.39583299e-07 5.94931089e-06 8.14579977e-08 1.19096912e-04\n",
      "  8.96376252e-01 1.03255495e-01]\n",
      " [8.59660679e-04 8.15121348e-06 1.86491996e-01 6.34807870e-02\n",
      "  4.78265309e-11 9.40262303e-02 1.91565395e-08 1.95657107e-04\n",
      "  2.01294664e-03 6.52924478e-01]\n",
      " [4.63486714e-07 4.31229710e-05 1.43112056e-05 1.70577096e-06\n",
      "  6.30713203e-06 1.40356656e-06 7.98650854e-06 4.60377714e-06\n",
      "  9.88965154e-01 1.09549342e-02]\n",
      " [5.50753931e-09 1.60057045e-09 9.59608878e-15 9.11520477e-17\n",
      "  9.99999166e-01 2.05448725e-09 2.18809191e-07 5.58314241e-07\n",
      "  1.55429969e-09 7.78594447e-14]\n",
      " [1.27023755e-04 9.85092461e-01 3.85918185e-07 4.85737246e-07\n",
      "  1.55338184e-05 9.24047455e-03 1.33589538e-06 3.17152148e-06\n",
      "  3.30443872e-05 5.48621221e-03]\n",
      " [2.79768653e-09 6.16781348e-10 2.29102329e-06 6.53884456e-07\n",
      "  2.22400629e-07 1.77272824e-07 3.54098912e-12 9.99996424e-01\n",
      "  1.66373994e-07 1.61864875e-07]\n",
      " [1.90173807e-06 4.78130183e-04 9.99178155e-06 9.79978338e-08\n",
      "  1.22818127e-01 4.77737514e-04 1.86683152e-07 8.75389218e-01\n",
      "  7.43990589e-04 8.06160169e-05]\n",
      " [2.38913063e-14 4.73642664e-13 7.92580668e-09 9.99999285e-01\n",
      "  4.89230878e-16 1.37476794e-10 1.84532308e-16 6.31025676e-10\n",
      "  2.40413272e-07 4.27045251e-07]\n",
      " [2.74896536e-07 7.94707091e-07 1.52216174e-07 3.75873788e-05\n",
      "  8.92719232e-11 9.99921441e-01 2.86877966e-10 1.09052911e-09\n",
      "  3.59950690e-07 3.93117152e-05]]\n"
     ]
    }
   ],
   "source": [
    "predicted = model.predict(test_images)\n",
    "print(\"Reales    :\",test_targets[0:25])\n",
    "print(\"Estimados :\",predicted[0:25])"
   ]
  },
  {
   "cell_type": "markdown",
   "metadata": {},
   "source": [
    "Ahora bien, podemos usar el modelo que nos da keras para evaluar el accuracy comparando como el modelo trabaja con los datos de test.\n",
    "Midiendo el accuracy de la predicción, haciendo uso de los targets de test que habiamos separado con anterioridad."
   ]
  },
  {
   "cell_type": "code",
   "execution_count": 178,
   "metadata": {},
   "outputs": [
    {
     "name": "stdout",
     "output_type": "stream",
     "text": [
      "360/360 [==============================] - 0s 528us/sample - loss: 0.3675 - acc: 0.9056\n",
      "Test accuracy: 0.90555555\n"
     ]
    }
   ],
   "source": [
    "test_loss, neural_accuracy = model.evaluate(test_images, test_targets)\n",
    "\n",
    "print('Test accuracy:', neural_accuracy)"
   ]
  },
  {
   "cell_type": "markdown",
   "metadata": {},
   "source": [
    "Finalmente, agruparemos y mostrarremos los datos medidos para la red neuronal."
   ]
  },
  {
   "cell_type": "code",
   "execution_count": 179,
   "metadata": {},
   "outputs": [
    {
     "name": "stdout",
     "output_type": "stream",
     "text": [
      "Printing kera meassures\n",
      "Accuracy :  0.90555555\n",
      "Time     :  0.6778242588043213\n"
     ]
    }
   ],
   "source": [
    "print(\"Printing kera meassures\")\n",
    "print(\"Accuracy : \",neural_accuracy)\n",
    "print(\"Time     : \",neural_time)"
   ]
  },
  {
   "cell_type": "markdown",
   "metadata": {},
   "source": [
    "# Comparación contra el mejor modelo KMeans\n",
    "\n",
    "Primero, compararemos los tiempos de entrenamiento del perceptron y del knn"
   ]
  },
  {
   "cell_type": "code",
   "execution_count": 180,
   "metadata": {},
   "outputs": [
    {
     "name": "stdout",
     "output_type": "stream",
     "text": [
      "Neural time     :  0.6778242588043213\n",
      "Knn time        :  0.04687380790710449\n"
     ]
    }
   ],
   "source": [
    "print(\"Neural time     : \",neural_time)\n",
    "print(\"Knn time        : \",knn_time)"
   ]
  },
  {
   "cell_type": "markdown",
   "metadata": {},
   "source": [
    "Observamos que el tiempo de entrenamiento para la red neuronal es alta comparada con el tiempo de entrenamiento de knn, pero, ¿qué tal es su precisión?"
   ]
  },
  {
   "cell_type": "code",
   "execution_count": 182,
   "metadata": {},
   "outputs": [
    {
     "name": "stdout",
     "output_type": "stream",
     "text": [
      "Neural accuracy     :  0.90555555\n",
      "Knn accuracy        :  0.9638888888888889\n"
     ]
    }
   ],
   "source": [
    "print(\"Neural accuracy     : \",neural_accuracy)\n",
    "print(\"Knn accuracy        : \",knn_accuracy)"
   ]
  },
  {
   "cell_type": "markdown",
   "metadata": {},
   "source": [
    "Vemos que, la precisión del Knn termina siendo mejor que la de la red neuronal. Esto puede deberse a diversos aspectos:\n",
    "+ Las epochs con las que se entrenó la red neuronal no fueron suficientes para reducir el error al minimo de predicción.\n",
    "+ Quiza la estrategia de descenso de gradiente estocastico no es la adecuada para este problema."
   ]
  },
  {
   "cell_type": "markdown",
   "metadata": {},
   "source": [
    "Sin embargo, el uso de una red neuronal puede ser la estrategia más viable, ya que, en esta contamos con estrategias como 'sdg' que nos permiten disminuir el error de predicción, y con esto, mejorar en el entrenamiento de la red."
   ]
  }
 ],
 "metadata": {
  "kernelspec": {
   "display_name": "Python 3",
   "language": "python",
   "name": "python3"
  },
  "language_info": {
   "codemirror_mode": {
    "name": "ipython",
    "version": 3
   },
   "file_extension": ".py",
   "mimetype": "text/x-python",
   "name": "python",
   "nbconvert_exporter": "python",
   "pygments_lexer": "ipython3",
   "version": "3.7.3"
  }
 },
 "nbformat": 4,
 "nbformat_minor": 2
}
