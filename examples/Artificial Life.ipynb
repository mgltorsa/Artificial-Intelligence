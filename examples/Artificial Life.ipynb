{
 "cells": [
  {
   "cell_type": "markdown",
   "metadata": {},
   "source": [
    "# Hormiga de Langton\n",
    "La hormiga de Langton es un automata celular, en el cual simulamos a una hormiga ubicada en una rejilla, donde cada casilla puede estar marcada como W (white) y B (black)\n",
    "\n",
    "Cada cuadrado del entramado se colorea o bien blanco o bien negro. Se identifica arbitrariamente un cuadrado como la \"hormiga\" (que sera un cuadrado rojo\". La hormiga siempre está mirando en una de las cuatro direcciones cardinales y se mueve un cuadrado cada vez, de acuerdo con las siguientes reglas:\n",
    "\n",
    "+ Si está sobre un cuadrado blanco, cambia el color del cuadrado, gira noventa grados a la izquierda y avanza un cuadrado.\n",
    "+ Si está sobre un cuadrado negro, cambia el color del cuadrado, gira noventa grados a la derecha y avanza un cuadrado."
   ]
  },
  {
   "cell_type": "markdown",
   "metadata": {},
   "source": [
    "Primero importaremos la libreria turtle que nos permitirá manejar el escenario y mostrarlo graficamente."
   ]
  },
  {
   "cell_type": "code",
   "execution_count": 1,
   "metadata": {},
   "outputs": [],
   "source": [
    "import turtle"
   ]
  },
  {
   "cell_type": "markdown",
   "metadata": {},
   "source": [
    "Ahora bien definiremos nuestra hormiga haciendo uso de la clase Turtle."
   ]
  },
  {
   "cell_type": "code",
   "execution_count": 2,
   "metadata": {},
   "outputs": [],
   "source": [
    "ant = turtle.Turtle()\n",
    "ant.shape('square')\n",
    "ant.shapesize(0.7)\n",
    "ant.fillcolor('red')"
   ]
  },
  {
   "cell_type": "markdown",
   "metadata": {},
   "source": [
    "En este caso definimos que nuestra hormiga como un cuadrado rojo con 0.5 de tamaño."
   ]
  },
  {
   "cell_type": "markdown",
   "metadata": {},
   "source": [
    "Ahora, definiremos una variable que nos ayudará a gestionar la información del estado actual de la grilla. Es decir, nos permitirá almacenar el estado de cada casilla (su color)."
   ]
  },
  {
   "cell_type": "code",
   "execution_count": 3,
   "metadata": {},
   "outputs": [],
   "source": [
    "maps = {}"
   ]
  },
  {
   "cell_type": "markdown",
   "metadata": {},
   "source": [
    "Definimos la posición inicial de nuestra hormiga y una variable (plat) que definirá nuestra grilla. Lo haremós usando la libreria turtles para manejar el escenario y graficarlo.\n",
    "Para definir las coordenadas de nuestra hormiga declararemos la siguiente funcion."
   ]
  },
  {
   "cell_type": "code",
   "execution_count": 4,
   "metadata": {},
   "outputs": [],
   "source": [
    "def position(ant): \n",
    "    return (round(ant.xcor()), round(ant.ycor())) "
   ]
  },
  {
   "cell_type": "markdown",
   "metadata": {},
   "source": [
    "Y a continuación definimos nuestra grilla (plat) con un color inicial en negro."
   ]
  },
  {
   "cell_type": "code",
   "execution_count": 5,
   "metadata": {},
   "outputs": [],
   "source": [
    "plat = turtle.Screen() \n",
    "plat.bgcolor('black') \n",
    "plat.screensize(1000,1000) "
   ]
  },
  {
   "cell_type": "markdown",
   "metadata": {},
   "source": [
    "Ahora definimos la velocidad a la que se moverá la hormiga junto a la cantidad de distancia, a nivel de casillas, que se desplazará."
   ]
  },
  {
   "cell_type": "code",
   "execution_count": 6,
   "metadata": {},
   "outputs": [],
   "source": [
    "ant.speed(1000000)\n",
    "pos = position(ant)\n",
    "move = 15"
   ]
  },
  {
   "cell_type": "markdown",
   "metadata": {},
   "source": [
    "Para cambiar el estado de cada casilla en el mapa dependiendo su estado anterior, constuiremos una función sencilla que nos permita hacerlo de manera eficaz."
   ]
  },
  {
   "cell_type": "code",
   "execution_count": 7,
   "metadata": {},
   "outputs": [],
   "source": [
    "def mark(maps, ant, color): \n",
    "    maps[position(ant)] = color"
   ]
  },
  {
   "cell_type": "markdown",
   "metadata": {},
   "source": [
    "Finalmente declaramos las funciones que daran vida a la hormiga."
   ]
  },
  {
   "cell_type": "code",
   "execution_count": null,
   "metadata": {},
   "outputs": [],
   "source": [
    "while True:           \n",
    "        if pos not in maps or maps[pos] == \"black\": \n",
    "            ant.fillcolor('white')             \n",
    "            ant.stamp()\n",
    "            ant.fillcolor('red')\n",
    "            mark(maps, ant, \"white\") \n",
    "            ant.right(90) \n",
    "            ant.forward(move)            \n",
    "            pos = position(ant)\n",
    "              \n",
    "        elif maps[pos] == \"white\": \n",
    "            ant.fillcolor('black')\n",
    "            mark(maps, ant, \"black\")               \n",
    "            ant.stamp()\n",
    "            ant.fillcolor('red')\n",
    "            ant.left(90) \n",
    "            ant.forward(move)            \n",
    "            pos = position(ant)"
   ]
  },
  {
   "cell_type": "markdown",
   "metadata": {},
   "source": [
    "Luego de ver su comportamiento la idea a desarrollar entonces es: ubicar una colonia de hormigas de langton y observar su comportamiento."
   ]
  }
 ],
 "metadata": {
  "kernelspec": {
   "display_name": "Python 3",
   "language": "python",
   "name": "python3"
  },
  "language_info": {
   "codemirror_mode": {
    "name": "ipython",
    "version": 3
   },
   "file_extension": ".py",
   "mimetype": "text/x-python",
   "name": "python",
   "nbconvert_exporter": "python",
   "pygments_lexer": "ipython3",
   "version": "3.7.3"
  }
 },
 "nbformat": 4,
 "nbformat_minor": 2
}
